{
 "cells": [
  {
   "cell_type": "code",
   "execution_count": null,
   "id": "10b2bc1a",
   "metadata": {},
   "outputs": [],
   "source": [
    "%%writefile main.py\n",
    "import streamlit as st\n",
    "import pandas as pd\n",
    "import numpy as np\n",
    "\n",
    "num2curr = lambda x: \"${:,.0f}\".format(x) if x > 0 else \"-\"+(\"${:,.0f}\".format(x)).replace(\"-\",\"\")\n",
    "pagado = lambda X, t, d: ( (X*t*(1+t)**d) / (- 1 + (1+t)**d) ) * d\n",
    "\n",
    "def costo_seguro(X, d):\n",
    "    seguros = {4_000 : 26, 21_000 : 29, 51_000 : 30, np.inf: 31}\n",
    "\n",
    "    ingreso_seguro = 0.0\n",
    "\n",
    "    key_ant = 0\n",
    "    for s in seguros.keys():\n",
    "        if X < s and X > key_ant:\n",
    "            ingreso_seguro = seguros[s]\n",
    "\n",
    "        key_ant = s\n",
    "    \n",
    "    return ingreso_seguro * d\n",
    "\n",
    "with st.sidebar:\n",
    "    \n",
    "    page = st.selectbox(\n",
    "    'Selecciona la página',\n",
    "    ('Desarrollo de distribuidores',))\n",
    "\n",
    "    \n",
    "if page == 'Desarrollo de distribuidores':\n",
    "    \n",
    "    st.title(\"Desarrollo de distribuidores\")\n",
    "    col1, col2 = st.columns([1,1])\n",
    "    duracion_credito_semanas = 16\n",
    "    \n",
    "    with col1:\n",
    "        monto_credito_distribuidor = st.number_input(\"Monto de tu crédito\", \n",
    "                                             value = 5_000, \n",
    "                                             step = 1_000)\n",
    "    with col2:\n",
    "        tasa_credito_distribuidor = st.number_input(\"Tasa asignada a tu crédito\", \n",
    "                                             value = 100, \n",
    "                                             step = 5)\n",
    "            \n",
    "    \n",
    "    \n",
    "    tasa_semanal = ((tasa_credito_distribuidor / 52)/100)*1.16\n",
    "\n",
    "    intereses = pagado(monto_credito_distribuidor, tasa_semanal, duracion_credito_semanas) - monto_credito_distribuidor\n",
    "    \n",
    "    IVA = intereses * 0.16\n",
    "    \n",
    "    seguro = costo_seguro(monto_credito_distribuidor, duracion_credito_semanas)\n",
    "    col1, col2, col3, col4 = st.columns([1,1,1,1])\n",
    "    col1.metric(\"Interes a pagar\", num2curr(intereses))\n",
    "    col2.metric(\"IVA a pagar\", num2curr(IVA))\n",
    "    col3.metric(\"Seguro\", str(seguro))\n",
    "    col4.metric(\"Total a pagar\", num2curr(monto_credito_distribuidor + IVA + intereses + seguro))\n",
    "    \n",
    "    \n",
    "    col1, col2, col3, col4 = st.columns([0.3,0.5,1.5,0])\n",
    "    col1.write(\"#\")\n",
    "    col1.write(\"Si coloco\")\n",
    "    col2.number_input(label = \"\",value = 1, step = 1)\n",
    "    col3.write(\"#\")\n",
    "    col3.write(\"créditos durante la duración del mío\")"
   ]
  },
  {
   "cell_type": "code",
   "execution_count": 26,
   "id": "f0d3f402",
   "metadata": {},
   "outputs": [
    {
     "data": {
      "text/plain": [
       "2.342307692307692"
      ]
     },
     "execution_count": 26,
     "metadata": {},
     "output_type": "execute_result"
    }
   ],
   "source": [
    "((105 / 52))*1.16"
   ]
  }
 ],
 "metadata": {
  "kernelspec": {
   "display_name": "Python 3 (ipykernel)",
   "language": "python",
   "name": "python3"
  },
  "language_info": {
   "codemirror_mode": {
    "name": "ipython",
    "version": 3
   },
   "file_extension": ".py",
   "mimetype": "text/x-python",
   "name": "python",
   "nbconvert_exporter": "python",
   "pygments_lexer": "ipython3",
   "version": "3.11.4"
  }
 },
 "nbformat": 4,
 "nbformat_minor": 5
}
