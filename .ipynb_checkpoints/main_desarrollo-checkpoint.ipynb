{
 "cells": [
  {
   "cell_type": "code",
   "execution_count": 46,
   "id": "87f4f2fe",
   "metadata": {},
   "outputs": [
    {
     "name": "stdout",
     "output_type": "stream",
     "text": [
      "Overwriting main.py\n"
     ]
    }
   ],
   "source": [
    "%%writefile main.py\n",
    "import streamlit as st\n",
    "import pandas as pd\n",
    "import numpy as np\n",
    "\n",
    "num2curr = lambda x: \"${:,.0f}\".format(x) if x > 0 else \"-\"+(\"${:,.0f}\".format(x)).replace(\"-\",\"\")\n",
    "pagado = lambda X, t, d: ( (X*t*(1+t)**d) / (- 1 + (1+t)**d) ) * d\n",
    "\n",
    "def find_rate(X_con_intereses, X, d):\n",
    "    pagado = lambda X, t, d: ( (X*t*(1+t)**d) / (- 1 + (1+t)**d) ) * d\n",
    "    tasas = list(range(1, 147, 1))\n",
    "    res = []\n",
    "    for r in tasas:\n",
    "        r /= 52\n",
    "        res.append(abs(X_con_intereses - pagado(X,(r/100),d)))\n",
    "    return tasas[np.argmin(res)]\n",
    "\n",
    "def costo_seguro(X, d):\n",
    "    seguros = {4_000 : 26, 21_000 : 29, 51_000 : 30, np.inf: 31}\n",
    "\n",
    "    ingreso_seguro = 0.0\n",
    "\n",
    "    key_ant = 0\n",
    "    for s in seguros.keys():\n",
    "        if X < s and X > key_ant:\n",
    "            ingreso_seguro = seguros[s]\n",
    "\n",
    "        key_ant = s\n",
    "    \n",
    "    return ingreso_seguro * d\n",
    "\n",
    "with st.sidebar:\n",
    "    \n",
    "    page = st.selectbox(\n",
    "    'Selecciona la página',\n",
    "    ('Desarrollo de distribuidores',))\n",
    "\n",
    "    \n",
    "if page == 'Desarrollo de distribuidores':\n",
    "    \n",
    "    st.title(\"Desarrollo de distribuidores\")\n",
    "    col1, col2 = st.columns([1,1])\n",
    "    duracion_credito_semanas = 16\n",
    "    porc_comision = 0.145\n",
    "    \n",
    "    with col1:\n",
    "        monto_credito_distribuidor = st.number_input(\"Monto de tu crédito\", \n",
    "                                             value = 5_000, \n",
    "                                             step = 1_000)\n",
    "    with col2:\n",
    "        tasa_credito_distribuidor = st.number_input(\"Tasa asignada a tu crédito\", \n",
    "                                             value = 100, \n",
    "                                             step = 5)\n",
    "            \n",
    "    \n",
    "    \n",
    "    tasa_semanal = ((tasa_credito_distribuidor / 52)/100)\n",
    "\n",
    "    intereses = pagado(monto_credito_distribuidor, tasa_semanal, duracion_credito_semanas) - monto_credito_distribuidor\n",
    "    \n",
    "    IVA = intereses * 0.16\n",
    "    \n",
    "    seguro = costo_seguro(monto_credito_distribuidor, duracion_credito_semanas)\n",
    "    \n",
    "    total_a_pagar = monto_credito_distribuidor + intereses + seguro + IVA\n",
    "    \n",
    "    col1, col2, col3, col4 = st.columns([1,1,1,1])\n",
    "    col1.metric(\"Interes a pagar\", num2curr(intereses))\n",
    "    col2.metric(\"IVA a pagar\", num2curr(IVA))\n",
    "    col3.metric(\"Seguro\", str(seguro))\n",
    "    col4.metric(\"Total a pagar\", num2curr(total_a_pagar))\n",
    "    \n",
    "    \n",
    "    col1, col2, col3, col4, col5 = st.columns([0.3,0.3,0.7, 0.4, 0.8])\n",
    "    col1.write(\"#\")\n",
    "    col1.write(\"Si colocas\")\n",
    "    cantidad_creditos_colocar = col2.number_input(label = \"\",value = 1, step = 1)\n",
    "    col3.write(\"#\")\n",
    "    col3.write(\"créditos con un monto de:\")\n",
    "    monto_medio_a_colocar = col4.number_input(label = \"\", value = 3000, step = 1000)\n",
    "    col5.write(\"#\")\n",
    "    col5.write(\"c/u durante tu crédito\")\n",
    "    \n",
    "    monto_medio_a_colocar\n",
    "    tasa_media_a_colocar = 1.41\n",
    "    \n",
    "    pago_a_colocar = pagado(monto_medio_a_colocar, (tasa_media_a_colocar/52) * 1.16, duracion_credito_semanas) + costo_seguro(monto_medio_a_colocar, duracion_credito_semanas)\n",
    "    comision = (pago_a_colocar / duracion_credito_semanas) * porc_comision * cantidad_creditos_colocar * duracion_credito_semanas\n",
    "    \n",
    "    nuevo_total_a_pagar = total_a_pagar - comision\n",
    "    nuevo_total_a_pagar_intereses = total_a_pagar - comision - IVA - seguro\n",
    "    nueva_tasa = find_rate(nuevo_total_a_pagar_intereses, monto_credito_distribuidor, duracion_credito_semanas)\n",
    "    # TODO\n",
    "    \n",
    "    col1, col2, col3, col4 = st.columns([1,1,1,1])\n",
    "    #col1.metric(\"Comisión durante el crédito\", num2curr(comision))\n",
    "    col1.metric(\"Intereses con descuento\", num2curr(intereses - comision), num2curr(- comision))\n",
    "    col2.metric(\"Nuevo total a pagar\", num2curr(nuevo_total_a_pagar ), num2curr(nuevo_total_a_pagar - total_a_pagar))\n",
    "    col3.metric(\"Nueva tasa\", f\"{nueva_tasa}%\",f\"{nueva_tasa - tasa_credito_distribuidor}%\")\n",
    "    "
   ]
  },
  {
   "cell_type": "code",
   "execution_count": 36,
   "id": "afd86e61",
   "metadata": {},
   "outputs": [],
   "source": [
    "def find_rate(X_con_intereses, X, d):\n",
    "    pagado = lambda X, t, d: ( (X*t*(1+t)**d) / (- 1 + (1+t)**d) ) * d\n",
    "    tasas = list(range(1, 147, 1))\n",
    "    res = []\n",
    "    for r in tasas:\n",
    "        r /= 52\n",
    "        res.append(abs(X_con_intereses - pagado(X,(r/100),d)))\n",
    "    return tasas[np.argmin(res)]"
   ]
  },
  {
   "cell_type": "code",
   "execution_count": 19,
   "id": "80f521d8",
   "metadata": {},
   "outputs": [],
   "source": [
    "pagado = lambda X, t, d: ( (X*t*(1+t)**d) / (- 1 + (1+t)**d) ) * d"
   ]
  },
  {
   "cell_type": "code",
   "execution_count": 29,
   "id": "34f02f38",
   "metadata": {},
   "outputs": [
    {
     "data": {
      "text/plain": [
       "6320.167928495924"
      ]
     },
     "execution_count": 29,
     "metadata": {},
     "output_type": "execute_result"
    }
   ],
   "source": [
    "X = 5000\n",
    "t = 100\n",
    "d = 16\n",
    "pagado(X,(t/52/100),d) + costo_seguro(X, d)"
   ]
  },
  {
   "cell_type": "code",
   "execution_count": 24,
   "id": "47881d18",
   "metadata": {},
   "outputs": [
    {
     "data": {
      "text/plain": [
       "100"
      ]
     },
     "execution_count": 24,
     "metadata": {},
     "output_type": "execute_result"
    }
   ],
   "source": [
    "\n",
    "X_con_intereses = 5_000+ 1464 - costo_seguro(X, d)\n",
    "\n",
    "find_rate(X_con_intereses, X, d)"
   ]
  },
  {
   "cell_type": "code",
   "execution_count": 45,
   "id": "ad9b277a",
   "metadata": {},
   "outputs": [
    {
     "data": {
      "text/plain": [
       "130"
      ]
     },
     "execution_count": 45,
     "metadata": {},
     "output_type": "execute_result"
    }
   ],
   "source": [
    "#find_rate(43500, 36000, 16)\n",
    "find_rate(44120, 36000, 16)"
   ]
  },
  {
   "cell_type": "code",
   "execution_count": 35,
   "id": "948d88c8",
   "metadata": {},
   "outputs": [
    {
     "data": {
      "text/plain": [
       "5856.167928495924"
      ]
     },
     "execution_count": 35,
     "metadata": {},
     "output_type": "execute_result"
    }
   ],
   "source": [
    "pagado(5_000, (1./52), 16)# + costo_seguro(3_000, 16)"
   ]
  },
  {
   "cell_type": "code",
   "execution_count": 84,
   "id": "7f3819c1",
   "metadata": {},
   "outputs": [
    {
     "data": {
      "text/plain": [
       "4279.918568196586"
      ]
     },
     "execution_count": 84,
     "metadata": {},
     "output_type": "execute_result"
    }
   ],
   "source": [
    "pagado = lambda X, t, d: ( (X*t*(1+t)**d) / (- 1 + (1+t)**d) ) * d\n",
    "\n",
    "pagado(3_000, (1.41/52)*1.16, 16) + costo_seguro(3_000, 16)"
   ]
  },
  {
   "cell_type": "code",
   "execution_count": 3,
   "id": "01cea245",
   "metadata": {},
   "outputs": [],
   "source": [
    "import numpy as np\n",
    "def costo_seguro(X, d):\n",
    "    seguros = {4_000 : 26, 21_000 : 29, 51_000 : 30, np.inf: 31}\n",
    "\n",
    "    ingreso_seguro = 0.0\n",
    "\n",
    "    key_ant = 0\n",
    "    for s in seguros.keys():\n",
    "        if X < s and X > key_ant:\n",
    "            ingreso_seguro = seguros[s]\n",
    "\n",
    "        key_ant = s\n",
    "    \n",
    "    return ingreso_seguro * d"
   ]
  },
  {
   "cell_type": "code",
   "execution_count": 100,
   "id": "5ee4506e",
   "metadata": {},
   "outputs": [],
   "source": [
    "import numpy_financial as nf"
   ]
  },
  {
   "cell_type": "code",
   "execution_count": 105,
   "id": "2e3c2926",
   "metadata": {},
   "outputs": [
    {
     "data": {
      "text/plain": [
       "-2.008278903807215"
      ]
     },
     "execution_count": 105,
     "metadata": {},
     "output_type": "execute_result"
    }
   ],
   "source": [
    "nf.rate(16, 39_000, 2400, 0)  \n"
   ]
  },
  {
   "cell_type": "code",
   "execution_count": 106,
   "id": "d8690200",
   "metadata": {},
   "outputs": [
    {
     "data": {
      "text/plain": [
       "38400"
      ]
     },
     "execution_count": 106,
     "metadata": {},
     "output_type": "execute_result"
    }
   ],
   "source": []
  }
 ],
 "metadata": {
  "kernelspec": {
   "display_name": "Python 3 (ipykernel)",
   "language": "python",
   "name": "python3"
  },
  "language_info": {
   "codemirror_mode": {
    "name": "ipython",
    "version": 3
   },
   "file_extension": ".py",
   "mimetype": "text/x-python",
   "name": "python",
   "nbconvert_exporter": "python",
   "pygments_lexer": "ipython3",
   "version": "3.11.4"
  }
 },
 "nbformat": 4,
 "nbformat_minor": 5
}
