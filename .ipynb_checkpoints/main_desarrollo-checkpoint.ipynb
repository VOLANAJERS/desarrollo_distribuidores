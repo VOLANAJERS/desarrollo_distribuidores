{
 "cells": [
  {
   "cell_type": "code",
   "execution_count": 1,
   "id": "cabf3235",
   "metadata": {},
   "outputs": [
    {
     "name": "stdout",
     "output_type": "stream",
     "text": [
      "Writing main.py\n"
     ]
    }
   ],
   "source": [
    "%%writefile main.py\n",
    "import streamlit as st\n",
    "import pandas as pd\n",
    "import numpy as np\n",
    "\n",
    "with st.sidebar:\n",
    "    \n",
    "    page = st.selectbox(\n",
    "    'Selecciona la página',\n",
    "    'Desarrollo de distribuidores')\n",
    "\n",
    "    \n",
    "if page == 'Desarrollo de distribuidores':\n",
    "    \n",
    "    st.title(\"Desarrollo de distribuidores\")\n",
    "    \n"
   ]
  }
 ],
 "metadata": {
  "kernelspec": {
   "display_name": "Python 3 (ipykernel)",
   "language": "python",
   "name": "python3"
  },
  "language_info": {
   "codemirror_mode": {
    "name": "ipython",
    "version": 3
   },
   "file_extension": ".py",
   "mimetype": "text/x-python",
   "name": "python",
   "nbconvert_exporter": "python",
   "pygments_lexer": "ipython3",
   "version": "3.11.4"
  }
 },
 "nbformat": 4,
 "nbformat_minor": 5
}
